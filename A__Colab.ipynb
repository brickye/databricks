{
  "nbformat": 4,
  "nbformat_minor": 0,
  "metadata": {
    "colab": {
      "provenance": [],
      "authorship_tag": "ABX9TyM8XTvH03afoOWaLmJG8s8S",
      "include_colab_link": true
    },
    "kernelspec": {
      "name": "python3",
      "display_name": "Python 3"
    },
    "language_info": {
      "name": "python"
    }
  },
  "cells": [
    {
      "cell_type": "markdown",
      "metadata": {
        "id": "view-in-github",
        "colab_type": "text"
      },
      "source": [
        "<a href=\"https://colab.research.google.com/github/brickye/databricks/blob/main/A__Colab.ipynb\" target=\"_parent\"><img src=\"https://colab.research.google.com/assets/colab-badge.svg\" alt=\"Open In Colab\"/></a>"
      ]
    },
    {
      "cell_type": "code",
      "execution_count": 1,
      "metadata": {
        "colab": {
          "base_uri": "https://localhost:8080/"
        },
        "id": "3P9E3LRs50w0",
        "outputId": "dce10cda-aad5-48b6-9903-1443103b2d33"
      },
      "outputs": [
        {
          "output_type": "stream",
          "name": "stdout",
          "text": [
            "[0, -1, -1, -1, -1, -1]\n",
            "[1, -1, -1, -1, -1, -1]\n",
            "[2, -1, -1, -1, -1, -1]\n",
            "[3, -1, 8, 9, 10, 11]\n",
            "[4, 5, 6, 7, -1, 12]\n"
          ]
        }
      ],
      "source": [
        "grid = [[0, 1, 0, 0, 0, 0],\n",
        "        [0, 1, 0, 0, 0, 0],\n",
        "        [0, 1, 0, 0, 0, 0],\n",
        "        [0, 1, 0, 0, 0, 0],\n",
        "        [0, 0, 0, 0, 1, 0]]\n",
        "\n",
        "heuristic = [[9, 8, 7, 6, 5, 4],\n",
        "             [8, 7, 6, 5, 4, 3],\n",
        "             [7, 6, 5, 4, 3, 2],\n",
        "             [6, 5, 4, 3, 2, 1],\n",
        "             [5, 4, 3, 2, 1, 0]]\n",
        "\n",
        "init = [0, 0]\n",
        "goal = [len(grid)-1, len(grid[0])-1]\n",
        "cost = 1\n",
        "\n",
        "delta = [[-1, 0 ], # go up\n",
        "         [ 0, -1], # go left\n",
        "         [ 1, 0 ], # go down\n",
        "         [ 0, 1 ]] # go right\n",
        "\n",
        "delta_name = ['^', '<', 'v', '>']\n",
        "\n",
        "def search(grid,init,goal,cost,heuristic):\n",
        "    closed = [[0 for col in range(len(grid[0]))] for row in range(len(grid))]\n",
        "    closed[init[0]][init[1]] = 1\n",
        "\n",
        "    expand = [[-1 for col in range(len(grid[0]))] for row in range(len(grid))]\n",
        "    action = [[-1 for col in range(len(grid[0]))] for row in range(len(grid))]\n",
        "\n",
        "    x = init[0]\n",
        "    y = init[1]\n",
        "    g = 0\n",
        "    f = g + heuristic[x][y]\n",
        "\n",
        "    open = [[f, g, x, y]]\n",
        "\n",
        "    found = False  # flag that is set when search is complete\n",
        "    resign = False # flag set if we can't find expand\n",
        "    count = 0\n",
        "\n",
        "    while not found and not resign:\n",
        "        if len(open) == 0:\n",
        "            resign = True\n",
        "            return \"Fail\"\n",
        "        else:\n",
        "            open.sort()\n",
        "            open.reverse()\n",
        "            next = open.pop()\n",
        "            f = next[0]\n",
        "            g = next[1]\n",
        "            x = next[2]\n",
        "            y = next[3]\n",
        "\n",
        "            expand[x][y] = count\n",
        "            count += 1\n",
        "\n",
        "            if x == goal[0] and y == goal[1]:\n",
        "                found = True\n",
        "            else:\n",
        "                for i in range(len(delta)):\n",
        "                    x2 = x + delta[i][0]\n",
        "                    y2 = y + delta[i][1]\n",
        "                    if x2 >= 0 and x2 < len(grid) and y2 >=0 and y2 < len(grid[0]):\n",
        "                        if closed[x2][y2] == 0 and grid[x2][y2] == 0:\n",
        "                            g2 = g + cost\n",
        "                            f = g2 + heuristic[x2][y2]\n",
        "                            open.append([f, g2, x2, y2])\n",
        "                            closed[x2][y2] = 1\n",
        "\n",
        "    return expand\n",
        "\n",
        "result = search(grid,init,goal,cost,heuristic)\n",
        "\n",
        "for el in result:\n",
        "\tprint (el)\n"
      ]
    },
    {
      "cell_type": "code",
      "source": [],
      "metadata": {
        "id": "UzWtATb557NK"
      },
      "execution_count": null,
      "outputs": []
    }
  ]
}